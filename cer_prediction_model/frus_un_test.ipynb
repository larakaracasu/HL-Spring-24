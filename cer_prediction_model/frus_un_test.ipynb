{
 "cells": [
  {
   "cell_type": "markdown",
   "metadata": {},
   "source": [
    "# Testing the CER Prediction Model on the FRUS and UN corpuses"
   ]
  },
  {
   "cell_type": "code",
   "execution_count": 1,
   "metadata": {},
   "outputs": [],
   "source": [
    "import pandas as pd\n",
    "import matplotlib.pyplot as plt\n",
    "from scipy.stats import ttest_ind\n",
    "import pymysql"
   ]
  },
  {
   "cell_type": "code",
   "execution_count": 28,
   "metadata": {},
   "outputs": [],
   "source": [
    "from joblib import Parallel, delayed\n",
    "import joblib\n",
    "import os"
   ]
  },
  {
   "cell_type": "code",
   "execution_count": 16,
   "metadata": {},
   "outputs": [
    {
     "name": "stdout",
     "output_type": "stream",
     "text": [
      "Requirement already satisfied: joblib in c:\\users\\larak\\onedrive\\documents\\github\\hl-spring-24\\predict-cer\\lib\\site-packages (1.4.2)\n",
      "Note: you may need to restart the kernel to use updated packages.\n"
     ]
    }
   ],
   "source": [
    "%pip install joblib"
   ]
  },
  {
   "cell_type": "code",
   "execution_count": 3,
   "metadata": {},
   "outputs": [
    {
     "name": "stdout",
     "output_type": "stream",
     "text": [
      "Requirement already satisfied: pymysql in c:\\users\\larak\\onedrive\\documents\\github\\hl-spring-24\\predict-cer\\lib\\site-packages (1.1.0)\n",
      "Note: you may need to restart the kernel to use updated packages.\n"
     ]
    }
   ],
   "source": [
    "%pip install pymysql"
   ]
  },
  {
   "cell_type": "markdown",
   "metadata": {},
   "source": [
    "Load in the model for prediction."
   ]
  },
  {
   "cell_type": "code",
   "execution_count": 2,
   "metadata": {},
   "outputs": [],
   "source": [
    "from predict_cer import load_pipeline, extract_features_from_text, load_expected_frequencies"
   ]
  },
  {
   "cell_type": "markdown",
   "metadata": {},
   "source": [
    "Load in the FRUS document bodies."
   ]
  },
  {
   "cell_type": "code",
   "execution_count": 4,
   "metadata": {},
   "outputs": [],
   "source": [
    "query = 'select id, raw_body from docs;'\n",
    "conn = pymysql.connect(host='history-lab.org', user='de_reader', password='XreadF403', db='declassification_frus')\n",
    "cursor = conn.cursor()\n",
    "cursor.execute(query)\n",
    "doc = cursor.fetchall()\n",
    "cursor.close(),\n",
    "conn.close()"
   ]
  },
  {
   "cell_type": "markdown",
   "metadata": {},
   "source": [
    "Preview."
   ]
  },
  {
   "cell_type": "code",
   "execution_count": 8,
   "metadata": {},
   "outputs": [
    {
     "name": "stdout",
     "output_type": "stream",
     "text": [
      "('frus1865p4d1007', '  \\nFrom the state chancery of the federal state of Zurich to the committee for the address of sympathy and condolence to the American Union in Berne.\\n\\nHonored Sir: We have the honor, by order of our state council, in answer to your esteemed letter of the 1st instant, to communicate to the authorities inviting our participation in the address of sympathy and condolence to the American Union, that our state council expresses the friendly feeling it has for the late successes of the Union in its war for freedom, and the deep sorrow for the atrocious assassination of its excellent President, Mr. Abraham Lincoln, and makes this known to the federal council for its proper communication to the authorities in the United States of America.\\nAccept, sir, the assurance of our distinguished consideration.\\nThe slate chancery of the canton of Zurich, by the second secretary of state,\\n\\nT. BOKHARD.\\n\\n')\n"
     ]
    }
   ],
   "source": [
    "print(doc[10])"
   ]
  },
  {
   "cell_type": "code",
   "execution_count": 7,
   "metadata": {},
   "outputs": [
    {
     "name": "stdout",
     "output_type": "stream",
     "text": [
      "209046\n"
     ]
    }
   ],
   "source": [
    "print(len(doc))"
   ]
  },
  {
   "cell_type": "markdown",
   "metadata": {},
   "source": [
    "Make predictions."
   ]
  },
  {
   "cell_type": "code",
   "execution_count": 10,
   "metadata": {},
   "outputs": [],
   "source": [
    "def load_pipeline():\n",
    "    return joblib.load('model.pkl')"
   ]
  },
  {
   "cell_type": "code",
   "execution_count": 21,
   "metadata": {},
   "outputs": [],
   "source": [
    "def predict_cer_for_docs(doc):\n",
    "    results = []\n",
    "    pipeline = load_pipeline('model.pkl')\n",
    "    expected_frequencies = load_expected_frequencies('expected_letter_distribution.csv')\n",
    "\n",
    "    for doc_id, text in doc:\n",
    "        try:\n",
    "            features = extract_features_from_text(text, expected_frequencies)\n",
    "            features_df = pd.DataFrame([features])\n",
    "            predicted_cer = pipeline.predict(features_df)[0]\n",
    "            results.append({'doc_id': doc_id, 'predicted_cer': predicted_cer})\n",
    "        except ZeroDivisionError:\n",
    "            print(f\"Warning: Division by zero encountered in document {doc_id}. Skipping this document.\")\n",
    "\n",
    "    return results\n",
    "\n",
    "def main():\n",
    "    predictions = predict_cer_for_docs(doc)\n",
    "    predictions_df = pd.DataFrame(predictions)\n",
    "    predictions_df.to_csv('frus_cer_predictions.csv', index=False)\n",
    "    print(\"Predicted CER results saved to 'frus_cer_predictions.csv'\")"
   ]
  },
  {
   "cell_type": "code",
   "execution_count": 22,
   "metadata": {},
   "outputs": [
    {
     "name": "stdout",
     "output_type": "stream",
     "text": [
      "Warning: Division by zero encountered in document frus1943CairoTehrand306. Skipping this document.\n",
      "Warning: Division by zero encountered in document frus1943CairoTehrand394. Skipping this document.\n",
      "Warning: Division by zero encountered in document frus1943CairoTehrand501. Skipping this document.\n",
      "Warning: Division by zero encountered in document frus1945-50Inteld311. Skipping this document.\n",
      "Warning: Division by zero encountered in document frus1945Maltad467. Skipping this document.\n"
     ]
    }
   ],
   "source": [
    "if __name__ == '__main__':\n",
    "    main()"
   ]
  },
  {
   "cell_type": "code",
   "execution_count": 29,
   "metadata": {},
   "outputs": [],
   "source": [
    "pipeline = load_pipeline()\n",
    "expected_frequencies = load_expected_frequencies('expected_letter_distribution.csv')\n",
    "\n",
    "def predict_cer(doc_id, text):\n",
    "    try:\n",
    "        features = extract_features_from_text(text, expected_frequencies)\n",
    "        features_df = pd.DataFrame([features])\n",
    "        predicted_cer = pipeline.predict(features_df)[0]\n",
    "        return {'doc_id': doc_id, 'predicted_cer': predicted_cer}\n",
    "    except ZeroDivisionError:\n",
    "        print(f\"Warning: Division by zero encountered in document {doc_id}. Skipping this document.\")\n",
    "        return None\n",
    "\n",
    "def predict_cer_for_docs(docs):\n",
    "    results = Parallel(n_jobs=-1)(delayed(predict_cer)(doc_id, text) for doc_id, text in docs if text is not None)\n",
    "    return [result for result in results if result is not None]\n",
    "\n",
    "def main(docs, start_index=0, end_index=None):\n",
    "    # if end_index is None, process all documents up to the end of the list\n",
    "    if end_index is None:\n",
    "        end_index = len(docs)\n",
    "    \n",
    "    # slice the docs from the start_index to the end_index\n",
    "    docs_to_process = docs[start_index:end_index]\n",
    "    predictions = predict_cer_for_docs(docs_to_process)\n",
    "    predictions_df = pd.DataFrame(predictions)\n",
    "    \n",
    "    # determine if the file needs the header (only if start_index is 0 and the file doesn't exist)\n",
    "    file_exists = os.path.exists('frus_cer_predictions.csv')\n",
    "    write_header = not file_exists or start_index == 0\n",
    "\n",
    "    predictions_df.to_csv('frus_cer_predictions.csv', mode='a', header=write_header, index=False)\n",
    "    print(f\"Predicted CER results saved to 'frus_cer_predictions.csv' from document {start_index} to {end_index}\")"
   ]
  },
  {
   "cell_type": "code",
   "execution_count": 56,
   "metadata": {},
   "outputs": [
    {
     "name": "stdout",
     "output_type": "stream",
     "text": [
      "Predicted CER results saved to 'frus_cer_predictions.csv' from document 20000 to 50000\n"
     ]
    }
   ],
   "source": [
    "if __name__ == '__main__':\n",
    "    main(doc, start_index=0, end_index=50000)"
   ]
  },
  {
   "cell_type": "code",
   "execution_count": 60,
   "metadata": {},
   "outputs": [],
   "source": [
    "frus_predictions = pd.read_csv('frus_cer_predictions.csv')"
   ]
  },
  {
   "cell_type": "code",
   "execution_count": 58,
   "metadata": {},
   "outputs": [
    {
     "data": {
      "text/html": [
       "<div>\n",
       "<style scoped>\n",
       "    .dataframe tbody tr th:only-of-type {\n",
       "        vertical-align: middle;\n",
       "    }\n",
       "\n",
       "    .dataframe tbody tr th {\n",
       "        vertical-align: top;\n",
       "    }\n",
       "\n",
       "    .dataframe thead th {\n",
       "        text-align: right;\n",
       "    }\n",
       "</style>\n",
       "<table border=\"1\" class=\"dataframe\">\n",
       "  <thead>\n",
       "    <tr style=\"text-align: right;\">\n",
       "      <th></th>\n",
       "      <th>doc_id</th>\n",
       "      <th>predicted_cer</th>\n",
       "    </tr>\n",
       "  </thead>\n",
       "  <tbody>\n",
       "    <tr>\n",
       "      <th>0</th>\n",
       "      <td>frus1865p4d1</td>\n",
       "      <td>0.050489</td>\n",
       "    </tr>\n",
       "    <tr>\n",
       "      <th>1</th>\n",
       "      <td>frus1865p4d10</td>\n",
       "      <td>0.102168</td>\n",
       "    </tr>\n",
       "    <tr>\n",
       "      <th>2</th>\n",
       "      <td>frus1865p4d100</td>\n",
       "      <td>0.207765</td>\n",
       "    </tr>\n",
       "    <tr>\n",
       "      <th>3</th>\n",
       "      <td>frus1865p4d1000</td>\n",
       "      <td>0.193504</td>\n",
       "    </tr>\n",
       "    <tr>\n",
       "      <th>4</th>\n",
       "      <td>frus1865p4d1001</td>\n",
       "      <td>0.197256</td>\n",
       "    </tr>\n",
       "    <tr>\n",
       "      <th>...</th>\n",
       "      <td>...</td>\n",
       "      <td>...</td>\n",
       "    </tr>\n",
       "    <tr>\n",
       "      <th>49995</th>\n",
       "      <td>frus1941v05d530</td>\n",
       "      <td>0.069841</td>\n",
       "    </tr>\n",
       "    <tr>\n",
       "      <th>49996</th>\n",
       "      <td>frus1941v05d531</td>\n",
       "      <td>0.095733</td>\n",
       "    </tr>\n",
       "    <tr>\n",
       "      <th>49997</th>\n",
       "      <td>frus1941v05d532</td>\n",
       "      <td>-0.005621</td>\n",
       "    </tr>\n",
       "    <tr>\n",
       "      <th>49998</th>\n",
       "      <td>frus1941v05d533</td>\n",
       "      <td>0.017370</td>\n",
       "    </tr>\n",
       "    <tr>\n",
       "      <th>49999</th>\n",
       "      <td>frus1941v05d534</td>\n",
       "      <td>0.043807</td>\n",
       "    </tr>\n",
       "  </tbody>\n",
       "</table>\n",
       "<p>50000 rows × 2 columns</p>\n",
       "</div>"
      ],
      "text/plain": [
       "                doc_id  predicted_cer\n",
       "0         frus1865p4d1       0.050489\n",
       "1        frus1865p4d10       0.102168\n",
       "2       frus1865p4d100       0.207765\n",
       "3      frus1865p4d1000       0.193504\n",
       "4      frus1865p4d1001       0.197256\n",
       "...                ...            ...\n",
       "49995  frus1941v05d530       0.069841\n",
       "49996  frus1941v05d531       0.095733\n",
       "49997  frus1941v05d532      -0.005621\n",
       "49998  frus1941v05d533       0.017370\n",
       "49999  frus1941v05d534       0.043807\n",
       "\n",
       "[50000 rows x 2 columns]"
      ]
     },
     "execution_count": 58,
     "metadata": {},
     "output_type": "execute_result"
    }
   ],
   "source": [
    "frus_predictions"
   ]
  },
  {
   "cell_type": "code",
   "execution_count": 37,
   "metadata": {},
   "outputs": [
    {
     "name": "stdout",
     "output_type": "stream",
     "text": [
      "Collecting seaborn\n",
      "  Using cached seaborn-0.13.2-py3-none-any.whl.metadata (5.4 kB)\n",
      "Requirement already satisfied: numpy!=1.24.0,>=1.20 in c:\\users\\larak\\onedrive\\documents\\github\\hl-spring-24\\predict-cer\\lib\\site-packages (from seaborn) (1.26.4)\n",
      "Requirement already satisfied: pandas>=1.2 in c:\\users\\larak\\onedrive\\documents\\github\\hl-spring-24\\predict-cer\\lib\\site-packages (from seaborn) (2.2.2)\n",
      "Requirement already satisfied: matplotlib!=3.6.1,>=3.4 in c:\\users\\larak\\onedrive\\documents\\github\\hl-spring-24\\predict-cer\\lib\\site-packages (from seaborn) (3.8.4)\n",
      "Requirement already satisfied: contourpy>=1.0.1 in c:\\users\\larak\\onedrive\\documents\\github\\hl-spring-24\\predict-cer\\lib\\site-packages (from matplotlib!=3.6.1,>=3.4->seaborn) (1.2.1)\n",
      "Requirement already satisfied: cycler>=0.10 in c:\\users\\larak\\onedrive\\documents\\github\\hl-spring-24\\predict-cer\\lib\\site-packages (from matplotlib!=3.6.1,>=3.4->seaborn) (0.12.1)\n",
      "Requirement already satisfied: fonttools>=4.22.0 in c:\\users\\larak\\onedrive\\documents\\github\\hl-spring-24\\predict-cer\\lib\\site-packages (from matplotlib!=3.6.1,>=3.4->seaborn) (4.51.0)\n",
      "Requirement already satisfied: kiwisolver>=1.3.1 in c:\\users\\larak\\onedrive\\documents\\github\\hl-spring-24\\predict-cer\\lib\\site-packages (from matplotlib!=3.6.1,>=3.4->seaborn) (1.4.5)\n",
      "Requirement already satisfied: packaging>=20.0 in c:\\users\\larak\\onedrive\\documents\\github\\hl-spring-24\\predict-cer\\lib\\site-packages (from matplotlib!=3.6.1,>=3.4->seaborn) (24.0)\n",
      "Requirement already satisfied: pillow>=8 in c:\\users\\larak\\onedrive\\documents\\github\\hl-spring-24\\predict-cer\\lib\\site-packages (from matplotlib!=3.6.1,>=3.4->seaborn) (10.3.0)\n",
      "Requirement already satisfied: pyparsing>=2.3.1 in c:\\users\\larak\\onedrive\\documents\\github\\hl-spring-24\\predict-cer\\lib\\site-packages (from matplotlib!=3.6.1,>=3.4->seaborn) (3.1.2)\n",
      "Requirement already satisfied: python-dateutil>=2.7 in c:\\users\\larak\\onedrive\\documents\\github\\hl-spring-24\\predict-cer\\lib\\site-packages (from matplotlib!=3.6.1,>=3.4->seaborn) (2.9.0.post0)\n",
      "Requirement already satisfied: pytz>=2020.1 in c:\\users\\larak\\onedrive\\documents\\github\\hl-spring-24\\predict-cer\\lib\\site-packages (from pandas>=1.2->seaborn) (2024.1)\n",
      "Requirement already satisfied: tzdata>=2022.7 in c:\\users\\larak\\onedrive\\documents\\github\\hl-spring-24\\predict-cer\\lib\\site-packages (from pandas>=1.2->seaborn) (2024.1)\n",
      "Requirement already satisfied: six>=1.5 in c:\\users\\larak\\onedrive\\documents\\github\\hl-spring-24\\predict-cer\\lib\\site-packages (from python-dateutil>=2.7->matplotlib!=3.6.1,>=3.4->seaborn) (1.16.0)\n",
      "Using cached seaborn-0.13.2-py3-none-any.whl (294 kB)\n",
      "Installing collected packages: seaborn\n",
      "Successfully installed seaborn-0.13.2\n",
      "Note: you may need to restart the kernel to use updated packages.\n"
     ]
    }
   ],
   "source": [
    "%pip install seaborn"
   ]
  },
  {
   "cell_type": "code",
   "execution_count": 41,
   "metadata": {},
   "outputs": [],
   "source": [
    "import seaborn as sns\n",
    "import matplotlib.pyplot as plt"
   ]
  },
  {
   "cell_type": "code",
   "execution_count": 61,
   "metadata": {},
   "outputs": [
    {
     "data": {
      "text/html": [
       "<div>\n",
       "<style scoped>\n",
       "    .dataframe tbody tr th:only-of-type {\n",
       "        vertical-align: middle;\n",
       "    }\n",
       "\n",
       "    .dataframe tbody tr th {\n",
       "        vertical-align: top;\n",
       "    }\n",
       "\n",
       "    .dataframe thead th {\n",
       "        text-align: right;\n",
       "    }\n",
       "</style>\n",
       "<table border=\"1\" class=\"dataframe\">\n",
       "  <thead>\n",
       "    <tr style=\"text-align: right;\">\n",
       "      <th></th>\n",
       "      <th>predicted_cer</th>\n",
       "    </tr>\n",
       "  </thead>\n",
       "  <tbody>\n",
       "    <tr>\n",
       "      <th>count</th>\n",
       "      <td>50000.000000</td>\n",
       "    </tr>\n",
       "    <tr>\n",
       "      <th>mean</th>\n",
       "      <td>0.091280</td>\n",
       "    </tr>\n",
       "    <tr>\n",
       "      <th>std</th>\n",
       "      <td>0.089859</td>\n",
       "    </tr>\n",
       "    <tr>\n",
       "      <th>min</th>\n",
       "      <td>-0.101769</td>\n",
       "    </tr>\n",
       "    <tr>\n",
       "      <th>25%</th>\n",
       "      <td>0.031967</td>\n",
       "    </tr>\n",
       "    <tr>\n",
       "      <th>50%</th>\n",
       "      <td>0.074075</td>\n",
       "    </tr>\n",
       "    <tr>\n",
       "      <th>75%</th>\n",
       "      <td>0.129589</td>\n",
       "    </tr>\n",
       "    <tr>\n",
       "      <th>max</th>\n",
       "      <td>1.861013</td>\n",
       "    </tr>\n",
       "  </tbody>\n",
       "</table>\n",
       "</div>"
      ],
      "text/plain": [
       "       predicted_cer\n",
       "count   50000.000000\n",
       "mean        0.091280\n",
       "std         0.089859\n",
       "min        -0.101769\n",
       "25%         0.031967\n",
       "50%         0.074075\n",
       "75%         0.129589\n",
       "max         1.861013"
      ]
     },
     "execution_count": 61,
     "metadata": {},
     "output_type": "execute_result"
    }
   ],
   "source": [
    "frus_predictions.describe()"
   ]
  },
  {
   "cell_type": "code",
   "execution_count": 63,
   "metadata": {},
   "outputs": [
    {
     "data": {
      "image/png": "[encoded data removed]",
      "text/plain": [
       "<Figure size 640x480 with 1 Axes>"
      ]
     },
     "metadata": {},
     "output_type": "display_data"
    }
   ],
   "source": [
    "sns.boxplot(x='predicted_cer', data=frus_predictions, showfliers=False)  # 'showfliers=False' removes outliers\n",
    "\n",
    "plt.title('Box Plot of CER Estimations Across 50K FRUS Documents')\n",
    "plt.xlabel('Predicted CER')\n",
    "\n",
    "# Calculating quartiles\n",
    "q25 = frus_predictions['predicted_cer'].quantile(0.25)\n",
    "q50 = frus_predictions['predicted_cer'].quantile(0.50)\n",
    "q75 = frus_predictions['predicted_cer'].quantile(0.75)\n",
    "\n",
    "# Adding quartile labels with actual values\n",
    "plt.axvline(q25, color='r', linestyle='dashed', linewidth=1)\n",
    "plt.axvline(q50, color='g', linestyle='dashed', linewidth=1)\n",
    "plt.axvline(q75, color='b', linestyle='dashed', linewidth=1)\n",
    "\n",
    "plt.text(q25, 0, f'25th: {q25:.4f}', rotation=90, verticalalignment='bottom', horizontalalignment='right', color='black')\n",
    "plt.text(q50, 0, f'Median: {q50:.4f}', rotation=90, verticalalignment='bottom', horizontalalignment='right', color='black')\n",
    "plt.text(q75, 0, f'75th: {q75:.4f}', rotation=90, verticalalignment='bottom', horizontalalignment='right', color='black')\n",
    "\n",
    "plt.show()"
   ]
  },
  {
   "cell_type": "code",
   "execution_count": 64,
   "metadata": {},
   "outputs": [
    {
     "data": {
      "image/png": "[encoded data removed]",
      "text/plain": [
       "<Figure size 640x480 with 1 Axes>"
      ]
     },
     "metadata": {},
     "output_type": "display_data"
    }
   ],
   "source": [
    "plt.hist(frus_predictions['predicted_cer'], bins=12, color='blue', alpha=0.7)\n",
    "plt.title('Distribution of CER Across 50K FRUS Sample')\n",
    "plt.xlabel('CER')\n",
    "plt.ylabel('Frequency')\n",
    "plt.show()"
   ]
  }
 ],
 "metadata": {
  "kernelspec": {
   "display_name": "predict-cer",
   "language": "python",
   "name": "predict-cer"
  },
  "language_info": {
   "codemirror_mode": {
    "name": "ipython",
    "version": 3
   },
   "file_extension": ".py",
   "mimetype": "text/x-python",
   "name": "python",
   "nbconvert_exporter": "python",
   "pygments_lexer": "ipython3",
   "version": "3.11.0"
  }
 },
 "nbformat": 4,
 "nbformat_minor": 2
}
