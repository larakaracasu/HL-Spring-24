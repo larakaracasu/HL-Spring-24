{
 "cells": [
  {
   "cell_type": "markdown",
   "metadata": {},
   "source": [
    "# Predicting Character Error Rate via ML Models"
   ]
  },
  {
   "cell_type": "markdown",
   "metadata": {},
   "source": [
    "Data Preparation"
   ]
  },
  {
   "cell_type": "code",
   "execution_count": 63,
   "metadata": {},
   "outputs": [],
   "source": [
    "import pandas as pd\n",
    "import numpy as np\n",
    "from sklearn.model_selection import KFold, GridSearchCV, cross_val_score\n",
    "from sklearn.linear_model import LinearRegression\n",
    "from sklearn.tree import DecisionTreeRegressor\n",
    "from sklearn.preprocessing import StandardScaler\n",
    "from sklearn.pipeline import Pipeline\n",
    "from sklearn.compose import ColumnTransformer\n",
    "from itertools import combinations"
   ]
  },
  {
   "cell_type": "code",
   "execution_count": 53,
   "metadata": {},
   "outputs": [],
   "source": [
    "readable_csv_path = 'C:/Users/larak/OneDrive/Documents/History-Lab/ddo/OCR paper/readable_v3.csv'"
   ]
  },
  {
   "cell_type": "code",
   "execution_count": 54,
   "metadata": {},
   "outputs": [],
   "source": [
    "df = pd.read_csv(readable_csv_path)"
   ]
  },
  {
   "cell_type": "code",
   "execution_count": 55,
   "metadata": {},
   "outputs": [
    {
     "data": {
      "text/html": [
       "<div>\n",
       "<style scoped>\n",
       "    .dataframe tbody tr th:only-of-type {\n",
       "        vertical-align: middle;\n",
       "    }\n",
       "\n",
       "    .dataframe tbody tr th {\n",
       "        vertical-align: top;\n",
       "    }\n",
       "\n",
       "    .dataframe thead th {\n",
       "        text-align: right;\n",
       "    }\n",
       "</style>\n",
       "<table border=\"1\" class=\"dataframe\">\n",
       "  <thead>\n",
       "    <tr style=\"text-align: right;\">\n",
       "      <th></th>\n",
       "      <th>Unnamed: 0</th>\n",
       "      <th>file</th>\n",
       "      <th>lex_ocr</th>\n",
       "      <th>fk_ocr</th>\n",
       "      <th>flesch_ocr</th>\n",
       "      <th>lex_gold</th>\n",
       "      <th>fk_gold</th>\n",
       "      <th>flesch_gold</th>\n",
       "      <th>CER</th>\n",
       "      <th>percent_misspelled</th>\n",
       "    </tr>\n",
       "  </thead>\n",
       "  <tbody>\n",
       "    <tr>\n",
       "      <th>0</th>\n",
       "      <td>0</td>\n",
       "      <td>GALE_CK2349346194.txt</td>\n",
       "      <td>0.561769</td>\n",
       "      <td>4.628641</td>\n",
       "      <td>82.944254</td>\n",
       "      <td>0.446995</td>\n",
       "      <td>14.917718</td>\n",
       "      <td>36.174668</td>\n",
       "      <td>0.486949</td>\n",
       "      <td>25.955414</td>\n",
       "    </tr>\n",
       "    <tr>\n",
       "      <th>1</th>\n",
       "      <td>1</td>\n",
       "      <td>GALE_CK2349347998.txt</td>\n",
       "      <td>0.482604</td>\n",
       "      <td>8.833292</td>\n",
       "      <td>64.280919</td>\n",
       "      <td>0.357855</td>\n",
       "      <td>15.745466</td>\n",
       "      <td>33.331225</td>\n",
       "      <td>0.212453</td>\n",
       "      <td>16.981132</td>\n",
       "    </tr>\n",
       "    <tr>\n",
       "      <th>2</th>\n",
       "      <td>2</td>\n",
       "      <td>GALE_CK2349354090.txt</td>\n",
       "      <td>0.395423</td>\n",
       "      <td>12.930099</td>\n",
       "      <td>38.573800</td>\n",
       "      <td>0.341304</td>\n",
       "      <td>14.649109</td>\n",
       "      <td>29.873484</td>\n",
       "      <td>0.062577</td>\n",
       "      <td>5.730028</td>\n",
       "    </tr>\n",
       "    <tr>\n",
       "      <th>3</th>\n",
       "      <td>3</td>\n",
       "      <td>GALE_CK2349354764.txt</td>\n",
       "      <td>0.497585</td>\n",
       "      <td>5.614244</td>\n",
       "      <td>82.566375</td>\n",
       "      <td>0.247114</td>\n",
       "      <td>8.993146</td>\n",
       "      <td>57.297364</td>\n",
       "      <td>0.362739</td>\n",
       "      <td>35.954344</td>\n",
       "    </tr>\n",
       "    <tr>\n",
       "      <th>4</th>\n",
       "      <td>4</td>\n",
       "      <td>GALE_CK2349355800.txt</td>\n",
       "      <td>0.708661</td>\n",
       "      <td>4.309904</td>\n",
       "      <td>76.668466</td>\n",
       "      <td>0.578313</td>\n",
       "      <td>13.401156</td>\n",
       "      <td>33.573502</td>\n",
       "      <td>0.230804</td>\n",
       "      <td>27.987421</td>\n",
       "    </tr>\n",
       "  </tbody>\n",
       "</table>\n",
       "</div>"
      ],
      "text/plain": [
       "   Unnamed: 0                   file   lex_ocr     fk_ocr  flesch_ocr  \\\n",
       "0           0  GALE_CK2349346194.txt  0.561769   4.628641   82.944254   \n",
       "1           1  GALE_CK2349347998.txt  0.482604   8.833292   64.280919   \n",
       "2           2  GALE_CK2349354090.txt  0.395423  12.930099   38.573800   \n",
       "3           3  GALE_CK2349354764.txt  0.497585   5.614244   82.566375   \n",
       "4           4  GALE_CK2349355800.txt  0.708661   4.309904   76.668466   \n",
       "\n",
       "   lex_gold    fk_gold  flesch_gold       CER  percent_misspelled  \n",
       "0  0.446995  14.917718    36.174668  0.486949           25.955414  \n",
       "1  0.357855  15.745466    33.331225  0.212453           16.981132  \n",
       "2  0.341304  14.649109    29.873484  0.062577            5.730028  \n",
       "3  0.247114   8.993146    57.297364  0.362739           35.954344  \n",
       "4  0.578313  13.401156    33.573502  0.230804           27.987421  "
      ]
     },
     "execution_count": 55,
     "metadata": {},
     "output_type": "execute_result"
    }
   ],
   "source": [
    "df.head()"
   ]
  },
  {
   "cell_type": "code",
   "execution_count": 10,
   "metadata": {},
   "outputs": [],
   "source": [
    "X = df[['file', 'lex_ocr', 'fk_ocr', 'percent_misspelled']]\n",
    "y = df['CER']"
   ]
  },
  {
   "cell_type": "code",
   "execution_count": 12,
   "metadata": {},
   "outputs": [
    {
     "data": {
      "text/html": [
       "<div>\n",
       "<style scoped>\n",
       "    .dataframe tbody tr th:only-of-type {\n",
       "        vertical-align: middle;\n",
       "    }\n",
       "\n",
       "    .dataframe tbody tr th {\n",
       "        vertical-align: top;\n",
       "    }\n",
       "\n",
       "    .dataframe thead th {\n",
       "        text-align: right;\n",
       "    }\n",
       "</style>\n",
       "<table border=\"1\" class=\"dataframe\">\n",
       "  <thead>\n",
       "    <tr style=\"text-align: right;\">\n",
       "      <th></th>\n",
       "      <th>file</th>\n",
       "      <th>lex_ocr</th>\n",
       "      <th>fk_ocr</th>\n",
       "      <th>percent_misspelled</th>\n",
       "    </tr>\n",
       "  </thead>\n",
       "  <tbody>\n",
       "    <tr>\n",
       "      <th>0</th>\n",
       "      <td>GALE_CK2349346194.txt</td>\n",
       "      <td>0.561769</td>\n",
       "      <td>4.628641</td>\n",
       "      <td>25.955414</td>\n",
       "    </tr>\n",
       "    <tr>\n",
       "      <th>1</th>\n",
       "      <td>GALE_CK2349347998.txt</td>\n",
       "      <td>0.482604</td>\n",
       "      <td>8.833292</td>\n",
       "      <td>16.981132</td>\n",
       "    </tr>\n",
       "    <tr>\n",
       "      <th>2</th>\n",
       "      <td>GALE_CK2349354090.txt</td>\n",
       "      <td>0.395423</td>\n",
       "      <td>12.930099</td>\n",
       "      <td>5.730028</td>\n",
       "    </tr>\n",
       "    <tr>\n",
       "      <th>3</th>\n",
       "      <td>GALE_CK2349354764.txt</td>\n",
       "      <td>0.497585</td>\n",
       "      <td>5.614244</td>\n",
       "      <td>35.954344</td>\n",
       "    </tr>\n",
       "    <tr>\n",
       "      <th>4</th>\n",
       "      <td>GALE_CK2349355800.txt</td>\n",
       "      <td>0.708661</td>\n",
       "      <td>4.309904</td>\n",
       "      <td>27.987421</td>\n",
       "    </tr>\n",
       "  </tbody>\n",
       "</table>\n",
       "</div>"
      ],
      "text/plain": [
       "                    file   lex_ocr     fk_ocr  percent_misspelled\n",
       "0  GALE_CK2349346194.txt  0.561769   4.628641           25.955414\n",
       "1  GALE_CK2349347998.txt  0.482604   8.833292           16.981132\n",
       "2  GALE_CK2349354090.txt  0.395423  12.930099            5.730028\n",
       "3  GALE_CK2349354764.txt  0.497585   5.614244           35.954344\n",
       "4  GALE_CK2349355800.txt  0.708661   4.309904           27.987421"
      ]
     },
     "execution_count": 12,
     "metadata": {},
     "output_type": "execute_result"
    }
   ],
   "source": [
    "X.head()"
   ]
  },
  {
   "cell_type": "code",
   "execution_count": 64,
   "metadata": {},
   "outputs": [],
   "source": [
    "def linear_regression_cv(df):\n",
    "    \n",
    "    # Define the features (X) and target (y)\n",
    "    features = ['lex_ocr', 'fk_ocr', 'percent_misspelled', 'lex_diversity_misspelled_interaction']\n",
    "    X = df[list(features)]\n",
    "    y = df['CER']\n",
    "    \n",
    "    # Define a pipeline for scaling and linear regression\n",
    "    pipeline = Pipeline([\n",
    "        ('scaler', StandardScaler()),\n",
    "        ('linear_regression', LinearRegression())\n",
    "    ])\n",
    "    \n",
    "    # Define the cross-validation strategy\n",
    "    cv = KFold(n_splits=5, shuffle=True, random_state=1)\n",
    "    \n",
    "    # Perform cross-validation\n",
    "    scores = cross_val_score(pipeline, X, y, cv=5, scoring='neg_mean_squared_error')\n",
    "    \n",
    "    # Calculate RMSE scores from the cross-validation scores\n",
    "    rmse_scores = np.sqrt(-scores)\n",
    "    \n",
    "    print(f\"Mean RMSE: {np.mean(rmse_scores):.4f} +/- {np.std(rmse_scores):.4f}\")"
   ]
  },
  {
   "cell_type": "code",
   "execution_count": 65,
   "metadata": {},
   "outputs": [
    {
     "name": "stdout",
     "output_type": "stream",
     "text": [
      "Mean RMSE: 0.1217 +/- 0.0299\n"
     ]
    }
   ],
   "source": [
    "linear_regression_cv(df)"
   ]
  },
  {
   "cell_type": "markdown",
   "metadata": {},
   "source": [
    "Testing Linear Regression, Decision Tree Regression"
   ]
  },
  {
   "cell_type": "code",
   "execution_count": 56,
   "metadata": {},
   "outputs": [],
   "source": [
    "def create_interaction_term(df):\n",
    "    df['lex_diversity_misspelled_interaction'] = df['fk_ocr'] * df['percent_misspelled']\n",
    "    return df\n"
   ]
  },
  {
   "cell_type": "code",
   "execution_count": 57,
   "metadata": {},
   "outputs": [],
   "source": [
    "def get_feature_combinations(df):\n",
    "    \"\"\"\n",
    "    Generates all possible non-empty combinations of the given features.\n",
    "    \"\"\"\n",
    "    features = ['lex_ocr', 'fk_ocr', 'percent_misspelled', 'lex_diversity_misspelled_interaction']\n",
    "    combo_list = []\n",
    "    for r in range(1, len(features) + 1):\n",
    "        combo_list.extend(combinations(features, r))\n",
    "    return combo_list"
   ]
  },
  {
   "cell_type": "code",
   "execution_count": 66,
   "metadata": {},
   "outputs": [],
   "source": [
    "def model_evaluation(df, model_type, params, feature_combo):\n",
    "    X = df[list(feature_combo)]\n",
    "    y = df['CER']\n",
    "\n",
    "    preprocessor = ColumnTransformer(transformers=[('num', StandardScaler(), list(feature_combo))])\n",
    "    \n",
    "    cv = KFold(n_splits=5, random_state=1, shuffle=True)\n",
    "    \n",
    "    if model_type == 'linear':\n",
    "        pipeline = Pipeline(steps=[('preprocessor', preprocessor), ('model', LinearRegression())])\n",
    "        scores = cross_val_score(pipeline, X, y, cv=cv, scoring='neg_mean_squared_error')\n",
    "        best_score = np.sqrt(-scores.mean())\n",
    "        best_params = {}\n",
    "\n",
    "    elif model_type == 'decision_tree':\n",
    "        pipeline = Pipeline(steps=[('preprocessor', preprocessor), ('model', DecisionTreeRegressor(random_state=1))])\n",
    "        grid_search = GridSearchCV(pipeline, param_grid=params, cv=cv, scoring='neg_mean_squared_error')\n",
    "        grid_search.fit(X, y)\n",
    "        best_score = np.sqrt(-grid_search.best_score_)\n",
    "        best_params = grid_search.best_params_\n",
    "    \n",
    "    return best_score, best_params, feature_combo, model_type"
   ]
  },
  {
   "cell_type": "code",
   "execution_count": 76,
   "metadata": {},
   "outputs": [],
   "source": [
    "def top_three(model_evaluations):\n",
    "    top_models = sorted(model_evaluations, key=lambda x: x['score'])[:3]\n",
    "    \n",
    "    print(\"Top 3 Models:\")\n",
    "    for idx, model_details in enumerate(top_models, start=1):\n",
    "        print(f\"Model {idx}:\")\n",
    "        print(f\"  Model Type: {model_details['model_type']}\")\n",
    "        print(f\"  Features: {', '.join(model_details['features'])}\")\n",
    "        print(f\"  Parameters: {model_details['params']}\")\n",
    "        print(f\"  RMSE: {model_details['score']:.4f}\\n\")"
   ]
  },
  {
   "cell_type": "code",
   "execution_count": 80,
   "metadata": {},
   "outputs": [],
   "source": [
    "def main(df):\n",
    "    df = create_interaction_term(df)\n",
    "    \n",
    "    hyperparams = {\n",
    "        'linear': [{}],\n",
    "        'decision_tree': [\n",
    "            {\n",
    "                'model__max_depth': [None, 5, 10, 20],\n",
    "                'model__min_samples_split': [2, 5, 10],\n",
    "                'model__min_samples_leaf': [1, 2, 4]\n",
    "            }\n",
    "        ]\n",
    "    }\n",
    "    \n",
    "    features = ['lex_ocr', 'fk_ocr', 'flesch_ocr', 'percent_misspelled', 'lex_diversity_misspelled_interaction']\n",
    "    model_evaluations = []\n",
    "    \n",
    "    for model_type, param_list in hyperparams.items():\n",
    "        for r in range(1, len(features) + 1):\n",
    "            for combo in combinations(features, r):\n",
    "                for params in param_list:\n",
    "                    score, best_params, _, _ = model_evaluation(df, model_type, params, combo)\n",
    "                    model_evaluations.append({\n",
    "                        'model_type': model_type,\n",
    "                        'features': combo,\n",
    "                        'params': best_params,\n",
    "                        'score': score\n",
    "                    })\n",
    "                    \n",
    "    top_three(model_evaluations)\n",
    "    return"
   ]
  },
  {
   "cell_type": "code",
   "execution_count": 81,
   "metadata": {},
   "outputs": [
    {
     "name": "stdout",
     "output_type": "stream",
     "text": [
      "Top 3 Models:\n",
      "Model 1:\n",
      "  Model Type: linear\n",
      "  Features: fk_ocr, flesch_ocr, percent_misspelled\n",
      "  Parameters: {}\n",
      "  RMSE: 0.1084\n",
      "\n",
      "Model 2:\n",
      "  Model Type: linear\n",
      "  Features: fk_ocr, flesch_ocr, percent_misspelled, lex_diversity_misspelled_interaction\n",
      "  Parameters: {}\n",
      "  RMSE: 0.1087\n",
      "\n",
      "Model 3:\n",
      "  Model Type: linear\n",
      "  Features: lex_ocr, fk_ocr, flesch_ocr, percent_misspelled\n",
      "  Parameters: {}\n",
      "  RMSE: 0.1092\n",
      "\n"
     ]
    }
   ],
   "source": [
    "main(df)\n",
    "\n",
    "# L1 regularization to see importance of features"
   ]
  }
 ],
 "metadata": {
  "kernelspec": {
   "display_name": "Python 3",
   "language": "python",
   "name": "python3"
  },
  "language_info": {
   "codemirror_mode": {
    "name": "ipython",
    "version": 3
   },
   "file_extension": ".py",
   "mimetype": "text/x-python",
   "name": "python",
   "nbconvert_exporter": "python",
   "pygments_lexer": "ipython3",
   "version": "3.11.0"
  }
 },
 "nbformat": 4,
 "nbformat_minor": 2
}
